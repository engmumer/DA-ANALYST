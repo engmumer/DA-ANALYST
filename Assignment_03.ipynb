{
 "cells": [
  {
   "cell_type": "raw",
   "id": "50b7a994-ab7d-470f-ac69-82803d1d5bbb",
   "metadata": {},
   "source": [
    "Question 1: Age Group Classification\n",
    "\n",
    "Write a Python program that takes the age of a person as input and classifies them into one of the following age groups:\n",
    "\n",
    "\"Child\" if the age is between 0 and 12 (inclusive).\n",
    "\n",
    "\"Teenager\" if the age is between 13 and 19 (inclusive).\n",
    "\n",
    "\"Adult\" if the age is between 20 and 64 (inclusive).\n",
    "\n",
    "\"Senior\" if the age is 65 or older."
   ]
  },
  {
   "cell_type": "code",
   "execution_count": 34,
   "id": "2ca9a857-41ff-4330-b24c-f53a507c837a",
   "metadata": {},
   "outputs": [
    {
     "name": "stdin",
     "output_type": "stream",
     "text": [
      "Enter your age 65\n"
     ]
    },
    {
     "name": "stdout",
     "output_type": "stream",
     "text": [
      "Senior\n"
     ]
    }
   ],
   "source": [
    "age =int(input(\"Enter your age\"))\n",
    "if (age<=12):\n",
    "    print(\"child\")\n",
    "elif(age<=19):\n",
    "    print(\"Teenager\")\n",
    "elif(age<=64):\n",
    "    print(\"Adult\")\n",
    "elif(age>=65):\n",
    "    print(\"Senior\")\n",
    "\n",
    "\n"
   ]
  },
  {
   "cell_type": "raw",
   "id": "55fe25f7-bfe7-4758-a626-61154b9ee1ed",
   "metadata": {},
   "source": [
    "Q2. Write a Python program that asks the user to enter an email address. The program should check if the email contains the characters @ and \".\" (ignoring case). If either character is present, print \"Email format is valid.\" Otherwise, print \"Invalid email format.\""
   ]
  },
  {
   "cell_type": "code",
   "execution_count": 36,
   "id": "22fa4ce5-cd92-41ed-8952-9f88b4cd1902",
   "metadata": {},
   "outputs": [
    {
     "name": "stdin",
     "output_type": "stream",
     "text": [
      "Enter your email address umer@gmailcom\n"
     ]
    },
    {
     "name": "stdout",
     "output_type": "stream",
     "text": [
      "Invalid email format\n"
     ]
    }
   ],
   "source": [
    "email_verification=str(input(\"Enter your email address\"))\n",
    "if (\"@\" in email_verification and \".\" in email_verification):\n",
    "    print(\"Email format is valid\")\n",
    "else:\n",
    "    print(\"Invalid email format\")"
   ]
  },
  {
   "cell_type": "code",
   "execution_count": 38,
   "id": "e66d1709-9a69-4f91-8b57-93264bb02da2",
   "metadata": {},
   "outputs": [
    {
     "name": "stdin",
     "output_type": "stream",
     "text": [
      "Enter your email address umer@gmail.com\n"
     ]
    },
    {
     "name": "stdout",
     "output_type": "stream",
     "text": [
      "Email format is valid\n"
     ]
    }
   ],
   "source": [
    "email_verification=str(input(\"Enter your email address\"))\n",
    "if (\"@\" in email_verification and \".\" in email_verification):\n",
    "    print(\"Email format is valid\")\n",
    "else:\n",
    "    print(\"Invalid email format\")"
   ]
  },
  {
   "cell_type": "raw",
   "id": "b0143d77-fdba-4808-881d-eadbd0d105ac",
   "metadata": {},
   "source": [
    "Q3. Write a Python program that takes three numbers as input and determines the largest among them. Also, check if any or all of the numbers are equal.\""
   ]
  },
  {
   "cell_type": "code",
   "execution_count": 48,
   "id": "1f024f8b-6f34-4690-b333-2e9eadbafd4c",
   "metadata": {},
   "outputs": [
    {
     "name": "stdin",
     "output_type": "stream",
     "text": [
      "Enter you first number 4\n",
      "Enter you second number 4\n",
      "Enter you third number 5\n"
     ]
    },
    {
     "name": "stdout",
     "output_type": "stream",
     "text": [
      "Num_3 is largest\n",
      "two numbers are equal\n"
     ]
    }
   ],
   "source": [
    "num_1=float(input(\"Enter you first number\"))\n",
    "num_2=float(input(\"Enter you second number\"))\n",
    "num_3=float(input(\"Enter you third number\"))\n",
    "if (num_1>num_2 and num_1>num_3):\n",
    "    print(\"Num_1 is largest\")\n",
    "elif (num_2>num_1 and num_2>num_3):\n",
    "    print(\"Num_2 is largest\")\n",
    "else:\n",
    "    print(\"Num_3 is largest\")\n",
    "if (num_1==num_2==num_3):\n",
    "    print(\"all number are equal\")\n",
    "elif(num_1==num_2 or num_2==num_3 or num_1==num_3):\n",
    "    print(\"two numbers are equal\")\n",
    "else:\n",
    "    print(\"all number are different\")\n",
    "    \n"
   ]
  },
  {
   "cell_type": "markdown",
   "id": "51d56391-5e8c-44c6-93fa-756e929b467d",
   "metadata": {},
   "source": [
    "Q4. Write a Python program that:\n",
    "\n",
    "Asks the user to enter a number.\n",
    "\n",
    "Checks whether the number is positive.\n",
    "\n",
    "If yes, further check if it's even or odd.\n",
    "\n",
    "Print \"The number is positive and even\" if divisible by 2.\n",
    "\n",
    "Print \"The number is positive and odd\" if not divisible by 2.\n",
    "\n",
    "If the number is zero or negative, print \"The number is not positive\"."
   ]
  },
  {
   "cell_type": "code",
   "execution_count": 56,
   "id": "28fd6d1a-332e-4824-b07d-d5afd28ee0b0",
   "metadata": {},
   "outputs": [
    {
     "name": "stdin",
     "output_type": "stream",
     "text": [
      "enter your number 9\n"
     ]
    },
    {
     "name": "stdout",
     "output_type": "stream",
     "text": [
      "nummber is odd\n"
     ]
    }
   ],
   "source": [
    "number=float(input(\"enter your number\"))\n",
    "if (number>=0):\n",
    "    if(number % 2 == 0):\n",
    "        print(\"The number is positive , even and divisble by 2\")\n",
    "    else:\n",
    "        print(\"nummber is odd\")\n",
    "else:\n",
    "    print(\"the number is negative\")\n",
    "        "
   ]
  },
  {
   "cell_type": "markdown",
   "id": "191f1fc9-8cc3-473e-bad3-f4d029a8a5f2",
   "metadata": {},
   "source": [
    "Q5. Ask the user for a username and password. Check if the username is correct. If it is, then check if the password is correct. If both are correct, print \"Access granted\".\n",
    "\n",
    "username = \"admin\"\n",
    "\n",
    "password = \"1234\""
   ]
  },
  {
   "cell_type": "code",
   "execution_count": 74,
   "id": "a94d9d97-70da-4eba-9749-61d550feb58c",
   "metadata": {},
   "outputs": [
    {
     "name": "stdin",
     "output_type": "stream",
     "text": [
      "Enter your username admin\n",
      " 1234\n"
     ]
    },
    {
     "name": "stdout",
     "output_type": "stream",
     "text": [
      "Access Granted\n"
     ]
    }
   ],
   "source": [
    "user=input(\"Enter your username\")\n",
    "password=input(\"\")\n",
    "if (user==\"admin\"):\n",
    " if(password==\"1234\"):\n",
    "     print(\"Access Granted\")\n",
    " else:\n",
    "     print(\"password is wrong\")\n",
    "else:\n",
    "    print(\"user name is wrong\")\n",
    "        \n",
    "\n",
    "        "
   ]
  },
  {
   "cell_type": "markdown",
   "id": "677da232-67af-4187-a590-13dfc75b8c77",
   "metadata": {},
   "source": [
    " Q6.Take an integer input from the user and check whether the entered value exists in the tuple my_tuple = (5, 10, 15, 20, 25). Print an appropriate message based on the result."
   ]
  },
  {
   "cell_type": "code",
   "execution_count": 88,
   "id": "8981ab48-3b88-4a50-8331-e0697efe5860",
   "metadata": {},
   "outputs": [
    {
     "name": "stdin",
     "output_type": "stream",
     "text": [
      "Enter your number 22\n"
     ]
    },
    {
     "name": "stdout",
     "output_type": "stream",
     "text": [
      "your number is not exixt in the list\n"
     ]
    }
   ],
   "source": [
    "num=int(input(\"Enter your number\"))\n",
    "my_tuple = (5, 10, 15, 20, 25)\n",
    "if (num in my_tuple):\n",
    "    print(\"your number exsist in the list\")\n",
    "else:\n",
    "    print(\"your number is not exixt in the list\")\n"
   ]
  },
  {
   "cell_type": "markdown",
   "id": "b0e8fade-6e07-453c-b179-2dfd199d7824",
   "metadata": {},
   "source": [
    " Create a program that takes the user's first name, last name, and age as input, packs them into a tuple, and prints the tuple."
   ]
  },
  {
   "cell_type": "code",
   "execution_count": 92,
   "id": "f8e28026-ca8d-4970-9d85-a10059f83692",
   "metadata": {},
   "outputs": [
    {
     "name": "stdin",
     "output_type": "stream",
     "text": [
      "enter your fist name Muhammad \n",
      "enter your last name Farooq\n",
      "enter your age 29\n"
     ]
    },
    {
     "name": "stdout",
     "output_type": "stream",
     "text": [
      "('Muhammad ', 'Farooq', 29)\n",
      "<class 'tuple'>\n"
     ]
    }
   ],
   "source": [
    "firt_name=input(\"enter your fist name\")\n",
    "last_name=input(\"enter your last name\")\n",
    "age=int(input(\"enter your age\"))\n",
    "bio_data=firt_name,last_name,age\n",
    "print(bio_data)\n",
    "print(type(bio_data))\n",
    "        "
   ]
  },
  {
   "cell_type": "raw",
   "id": "233fa471-eaf5-4fa6-b736-643a00c53380",
   "metadata": {},
   "source": [
    "Given the tuple coordinates = (4, 5, 6), unpack the elements of the tuple into three variables x, y, and z. Then, calculate and print the sum of the variables."
   ]
  },
  {
   "cell_type": "code",
   "execution_count": 94,
   "id": "5a070d4a-5db0-43d0-b68c-a3102d2acb3a",
   "metadata": {},
   "outputs": [
    {
     "name": "stdout",
     "output_type": "stream",
     "text": [
      "4 5 6\n",
      "15\n"
     ]
    }
   ],
   "source": [
    "tuple_1=(4,5,6)\n",
    "x,y,z=tuple_1\n",
    "print(x,y,z)\n",
    "print(x+y+z)"
   ]
  },
  {
   "cell_type": "markdown",
   "id": "981dbe36-b517-469c-9947-5856241d2757",
   "metadata": {},
   "source": [
    "Q9. Given the tuple my_tuple = (1, 2, 3, 4, 5), remove the element 3 from the tuple by first converting it to a list, and then print the resulting tuple.\n"
   ]
  },
  {
   "cell_type": "code",
   "execution_count": 101,
   "id": "a716e5c5-c6a4-4f2d-8ab5-e95426c8d61d",
   "metadata": {},
   "outputs": [
    {
     "data": {
      "text/plain": [
       "[1, 2, 4, 5]"
      ]
     },
     "execution_count": 101,
     "metadata": {},
     "output_type": "execute_result"
    }
   ],
   "source": [
    "my_tuple = (1, 2, 3, 4, 5)\n",
    "my_tuple=list(my_tuple)\n",
    "my_tuple.remove(3)\n",
    "my_tuple"
   ]
  },
  {
   "cell_type": "markdown",
   "id": "5701c88e-e854-48c9-a17a-2f874518732c",
   "metadata": {},
   "source": [
    "Q10. Given the tuple numbers = (10, 20, 5, 30, 15), find and print the maximum and minimum values in the tuple."
   ]
  },
  {
   "cell_type": "code",
   "execution_count": 105,
   "id": "9337090e-1c5e-4c49-9225-a18513ad78bc",
   "metadata": {},
   "outputs": [
    {
     "name": "stdout",
     "output_type": "stream",
     "text": [
      "the minimun number in the list is 5\n",
      "the maximun number in the list is 30\n"
     ]
    }
   ],
   "source": [
    "numbers = (10, 20, 5, 30, 15)\n",
    "print(\"the minimun number in the list is\",numbers[2])\n",
    "print(\"the maximun number in the list is\",numbers[3])\n"
   ]
  },
  {
   "cell_type": "markdown",
   "id": "efe0d917-b877-4489-9024-241b921ef40f",
   "metadata": {},
   "source": [
    "Q10. Given the tuple numbers = (10, 20, 5, 30, 15), find and print the maximum and minimum values in the tuple."
   ]
  },
  {
   "cell_type": "code",
   "execution_count": 107,
   "id": "3caa2c59-48c0-4698-89f0-5dfb859e697a",
   "metadata": {},
   "outputs": [
    {
     "name": "stdout",
     "output_type": "stream",
     "text": [
      "30\n",
      "5\n"
     ]
    }
   ],
   "source": [
    "numbers = (10, 20, 5, 30, 15)\n",
    "print(max(numbers))\n",
    "print(min(numbers))"
   ]
  }
 ],
 "metadata": {
  "kernelspec": {
   "display_name": "Python [conda env:base] *",
   "language": "python",
   "name": "conda-base-py"
  },
  "language_info": {
   "codemirror_mode": {
    "name": "ipython",
    "version": 3
   },
   "file_extension": ".py",
   "mimetype": "text/x-python",
   "name": "python",
   "nbconvert_exporter": "python",
   "pygments_lexer": "ipython3",
   "version": "3.12.7"
  }
 },
 "nbformat": 4,
 "nbformat_minor": 5
}
