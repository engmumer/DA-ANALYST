{
 "cells": [
  {
   "cell_type": "markdown",
   "id": "ded69d83-04af-41d6-8e49-609befccff3f",
   "metadata": {},
   "source": [
    "Q1.\n",
    "\n",
    "An e-commerce store stores information about its products in a nested dictionary. The outer dictionary uses product IDs as keys, and the inner dictionary stores product details like name, category, price, and stock quantity. products = { 101: {\"name\": \"Laptop\", \"category\": \"Electronics\", \"price\": 1200, \"stock\": 50}, 102: {\"name\": \"Shirt\", \"category\": \"Apparel\", \"price\": 25, \"stock\": 200}, 103: {\"name\": \"Coffee Maker\", \"category\": \"Home Appliances\", \"price\": 80, \"stock\": 30} }\n",
    "\n",
    "• Increase the stock of the \"Shirt\" product (add 50 more units)\n",
    "\n",
    "• Add a new product (e.g., \"Smartphone\")"
   ]
  },
  {
   "cell_type": "code",
   "execution_count": 20,
   "id": "67be0457-4d35-44b1-9e46-84e202b911ac",
   "metadata": {},
   "outputs": [
    {
     "name": "stdout",
     "output_type": "stream",
     "text": [
      "{101: {'name': 'Laptop', 'category': 'Electronics', 'price': 1200, 'stock': 50}, 102: {'name': 'Shirt', 'category': 'Apparel', 'price': 25, 'stock': 250}, 103: {'name': 'Coffee Maker', 'category': 'Home Appliances', 'price': 80, 'stock': 30}, 104: {'name': 'Smartphone', 'category': 'Electronics', 'price': 699, 'stock': 100}}\n"
     ]
    }
   ],
   "source": [
    "product= { 101: {\"name\": \"Laptop\", \"category\": \"Electronics\", \"price\": 1200, \"stock\": 50}, \n",
    "      102: {\"name\": \"Shirt\", \"category\": \"Apparel\", \"price\": 25, \"stock\": 200}, \n",
    "      103: {\"name\": \"Coffee Maker\", \"category\": \"Home Appliances\", \"price\": 80, \"stock\": 30} }\n",
    "product[102][\"stock\"]+=50\n",
    "product[104] = {\n",
    "    \"name\": \"Smartphone\",\n",
    "    \"category\": \"Electronics\",\n",
    "    \"price\": 699,\n",
    "    \"stock\": 100}\n",
    "print(product)\n",
    "           \n",
    "\n",
    "\n",
    "\n",
    "\n",
    "\n",
    "\n"
   ]
  },
  {
   "cell_type": "markdown",
   "id": "e10a9a28-2eb0-415e-a90c-41e3e1b2853e",
   "metadata": {},
   "source": [
    "Q2.\n",
    "\n",
    "You are given a list that contains some duplicate items. Remove the duplicates\n",
    "\n",
    "shopping_list = [\"apple\", \"banana\", \"apple\", \"orange\", \"banana\", \"grape\"]"
   ]
  },
  {
   "cell_type": "code",
   "execution_count": 22,
   "id": "ce6aa0e6-324c-49eb-8c5a-188bc104af66",
   "metadata": {},
   "outputs": [
    {
     "data": {
      "text/plain": [
       "{'apple', 'banana', 'grape', 'orange'}"
      ]
     },
     "execution_count": 22,
     "metadata": {},
     "output_type": "execute_result"
    }
   ],
   "source": [
    "shopping_list = [\"apple\", \"banana\", \"apple\", \"orange\", \"banana\", \"grape\"]\n",
    "set(shopping_list)\n"
   ]
  },
  {
   "cell_type": "markdown",
   "id": "0a62bc87-09d4-44c1-8311-2d3c6867511b",
   "metadata": {},
   "source": [
    "Q3.\n",
    "\n",
    "You are managing a list of students enrolled in two different courses. You need to perform various set operations to understand the student enrollment. Task: Create two sets: one for students in \"Course A\" and one for students in \"Course B\". Find the students who are in \"Course A\" but not in \"Course B\" (difference). Find students who are only in one of the two courses (symmetric difference). \n",
    "\n",
    "course_a = {\"John\", \"Alice\", \"Bob\", \"David\"} \n",
    "\n",
    "course_b = {\"Alice\", \"Eve\", \"Charlie\", \"David\"}\n",
    "\n",
    "• Find students who are in Course A but not in Course B (difference)\n",
    "\n",
    "• Find students who are only in one of the two courses (symmetric difference)"
   ]
  },
  {
   "cell_type": "code",
   "execution_count": 24,
   "id": "3bcf5d49-5a11-4edf-9f88-a53e9f2083e0",
   "metadata": {},
   "outputs": [
    {
     "name": "stdout",
     "output_type": "stream",
     "text": [
      "{'John', 'Bob'}\n"
     ]
    }
   ],
   "source": [
    "course_a = {\"John\", \"Alice\", \"Bob\", \"David\"}\n",
    "\n",
    "course_b = {\"Alice\", \"Eve\", \"Charlie\", \"David\"}\n",
    "\n",
    "difference=course_a-course_b\n",
    "\n",
    "print(difference)"
   ]
  },
  {
   "cell_type": "code",
   "execution_count": 26,
   "id": "dc84b71c-dcf2-41b2-b1e3-9b773a365947",
   "metadata": {},
   "outputs": [
    {
     "name": "stdout",
     "output_type": "stream",
     "text": [
      "{'John', 'Bob', 'Eve', 'Charlie'}\n"
     ]
    }
   ],
   "source": [
    "symmetric_differnce=course_a.symmetric_difference(course_b)\n",
    "print(symmetric_differnce)"
   ]
  },
  {
   "cell_type": "markdown",
   "id": "822000b2-e437-4d5d-9fff-2bded3b347cb",
   "metadata": {},
   "source": [
    "Q4.\n",
    "\n",
    "Write a Python program that calculates the sum of all even numbers between 1 and 50 (inclusive) using a for loop.\n",
    "\n",
    "Hint\n",
    "\n",
    "- Initialize a variable to hold the sum (e.g., sum_of_evens).\n",
    "- Use a for loop to iterate through all numbers from 1 to 50.\n",
    "- Inside the loop, check if the number is even.\n",
    "- If the number is even, add it to sum_of_evens.\n",
    "- After the loop finishes, print the total sum of all even numbers between 1 and 50."
   ]
  },
  {
   "cell_type": "code",
   "execution_count": 13,
   "id": "d436f7e0-9050-44a9-a027-6c5701dab40b",
   "metadata": {},
   "outputs": [
    {
     "name": "stdout",
     "output_type": "stream",
     "text": [
      "following numbers are even 0\n",
      "following numbers are even 2\n",
      "following numbers are even 4\n",
      "following numbers are even 6\n",
      "following numbers are even 8\n",
      "following numbers are even 10\n",
      "following numbers are even 12\n",
      "following numbers are even 14\n",
      "following numbers are even 16\n",
      "following numbers are even 18\n",
      "following numbers are even 20\n",
      "following numbers are even 22\n",
      "following numbers are even 24\n",
      "following numbers are even 26\n",
      "following numbers are even 28\n",
      "following numbers are even 30\n",
      "following numbers are even 32\n",
      "following numbers are even 34\n",
      "following numbers are even 36\n",
      "following numbers are even 38\n",
      "following numbers are even 40\n",
      "following numbers are even 42\n",
      "following numbers are even 44\n",
      "following numbers are even 46\n",
      "following numbers are even 48\n",
      "the total sum of even number is 600\n"
     ]
    }
   ],
   "source": [
    "sum_of_evens=0\n",
    "for i in range(0,50):\n",
    "    if(i%2==0):\n",
    "        print(\"following numbers are even\",i)\n",
    "        sum_of_evens=sum_of_evens+i\n",
    "print(\"the total sum of even number is\",sum_of_evens)\n",
    "\n",
    "         \n",
    "        "
   ]
  },
  {
   "cell_type": "markdown",
   "id": "b6529e21-c453-48f0-acee-54044715bc1d",
   "metadata": {},
   "source": [
    "Q5. Power of a Number Write a Python program that takes a number and prints the powers of the number (starting from 1 to 10) using a while loop. For example, if the user inputs 3, the output should be:\n",
    "\n",
    "3^1 = 3\n",
    "\n",
    "3^2 = 9\n",
    "\n",
    "3^3 = 27\n",
    "\n",
    "... up to 3^10."
   ]
  },
  {
   "cell_type": "code",
   "execution_count": 29,
   "id": "dd5ea7de-49e3-43b5-8882-add10bd358c4",
   "metadata": {},
   "outputs": [
    {
     "name": "stdin",
     "output_type": "stream",
     "text": [
      "enter your number 2\n"
     ]
    },
    {
     "name": "stdout",
     "output_type": "stream",
     "text": [
      "1\n",
      "2\n",
      "4\n",
      "8\n",
      "16\n",
      "32\n",
      "64\n",
      "128\n",
      "256\n",
      "512\n",
      "1024\n"
     ]
    }
   ],
   "source": [
    "num=int(input(\"enter your number\"))\n",
    "power=0\n",
    "while power<=10:\n",
    "    result=num**power\n",
    "    print(result)\n",
    "    power+=1\n",
    "    \n",
    "    "
   ]
  },
  {
   "cell_type": "markdown",
   "id": "17616e00-7421-4145-8177-c27d67f85b18",
   "metadata": {},
   "source": [
    "Q6. \n",
    "\n",
    "Problem Statement: Write a Python program that takes an integer input from the user and counts down from that number to 0. The program should display the current number at each step until it reaches 0, at which point it should print a message indicating the countdown is finished\n",
    "\n",
    "Output Hint:\n",
    "\n",
    "Enter a number to start the countdown: 3\n",
    "\n",
    "3\n",
    "\n",
    "2\n",
    "\n",
    "1\n",
    "\n",
    "0\n",
    "\n",
    "Countdown finished!"
   ]
  },
  {
   "cell_type": "code",
   "execution_count": 50,
   "id": "5594357c-739d-440b-a3bb-7e45821aeb62",
   "metadata": {},
   "outputs": [
    {
     "name": "stdin",
     "output_type": "stream",
     "text": [
      "enter your count down number 10\n"
     ]
    },
    {
     "name": "stdout",
     "output_type": "stream",
     "text": [
      "10\n",
      "9\n",
      "8\n",
      "7\n",
      "6\n",
      "5\n",
      "4\n",
      "3\n",
      "2\n",
      "1\n",
      "0\n",
      "countdown finished\n"
     ]
    }
   ],
   "source": [
    "number=int(input(\"enter your count down number\"))\n",
    "while number>=0:\n",
    "     print(number)\n",
    "     number-=1\n",
    "print(\"countdown finished\")\n",
    "\n",
    "        "
   ]
  },
  {
   "cell_type": "markdown",
   "id": "cfe42689-a235-4920-a4d2-2b0cbb8e51c6",
   "metadata": {},
   "source": [
    "Q7.\n",
    "\n",
    "Write a Python program that takes a number as input from the user and calculates its factorial using a for loop. The program should display the result to the user.\n",
    "\n",
    "Example Input/Output:\n",
    "\n",
    "Input:\n",
    "5\n",
    "\n",
    "Output:\n",
    "The factorial of 5 is 120"
   ]
  },
  {
   "cell_type": "code",
   "execution_count": 54,
   "id": "c8b6cd4c-3f34-4335-864d-9ade9c565511",
   "metadata": {},
   "outputs": [
    {
     "name": "stdin",
     "output_type": "stream",
     "text": [
      "Enter a number:  4\n"
     ]
    },
    {
     "name": "stdout",
     "output_type": "stream",
     "text": [
      "Factorial of 4 is 24\n"
     ]
    }
   ],
   "source": [
    "number = int(input(\"Enter a number: \"))\n",
    "factorial = 1\n",
    "\n",
    "for x in range(1, number + 1):\n",
    "    factorial *= x\n",
    "\n",
    "print(\"Factorial of\", number, \"is\", factorial)"
   ]
  },
  {
   "cell_type": "markdown",
   "id": "ee8b3ea5-fe2f-40eb-bcb0-a7ebca6811e0",
   "metadata": {},
   "source": [
    "Q8.\n",
    "\n",
    "Create an empty dictionary called person_info.\n",
    "\n",
    "Assign the following key-value pairs to the dictionary:\n",
    "\n",
    "\"name\": \"Alice\"\n",
    "\n",
    "\"age\": 25\n",
    "\n",
    "\"occupation\": \"Engineer\"\n",
    "\n",
    "After assigning the values, print the dictionary."
   ]
  },
  {
   "cell_type": "code",
   "execution_count": 60,
   "id": "dc4e5b65-f395-43f7-bb07-823f65afbb3c",
   "metadata": {},
   "outputs": [
    {
     "data": {
      "text/plain": [
       "{'name': 'Alice', 'age': 25, 'occpation': 'Engineer'}"
      ]
     },
     "execution_count": 60,
     "metadata": {},
     "output_type": "execute_result"
    }
   ],
   "source": [
    "person_info={\"name\":\"Alice\",\"age\":25,\"occpation\":\"Engineer\"}\n",
    "person_info\n"
   ]
  },
  {
   "cell_type": "markdown",
   "id": "252146ac-80e2-4961-bd0b-39c9821f9e04",
   "metadata": {},
   "source": [
    "Q9. Printing a right-angled triangle pattern (with NESTED while loop)"
   ]
  },
  {
   "cell_type": "code",
   "execution_count": null,
   "id": "5719c1be-5aa4-4f6a-96a0-a66e2e3983f1",
   "metadata": {},
   "outputs": [],
   "source": [
    "* \n",
    "* * \n",
    "* * * \n",
    "* * * * \n",
    "* * * * * "
   ]
  },
  {
   "cell_type": "code",
   "execution_count": 1,
   "id": "59944926-ae4d-4995-a30c-78ddd54bbcc3",
   "metadata": {},
   "outputs": [
    {
     "name": "stdout",
     "output_type": "stream",
     "text": [
      "* \n",
      "* * \n",
      "* * * \n",
      "* * * * \n"
     ]
    }
   ],
   "source": [
    "i=1\n",
    "while i<5:\n",
    "    j=1\n",
    "    while j<=i:\n",
    "        print(\"*\",end=\" \")\n",
    "        j+=1\n",
    "    print()\n",
    "    i+=1"
   ]
  },
  {
   "cell_type": "markdown",
   "id": "c8e1c594-6022-4dc6-8a7b-e2c3f36c798a",
   "metadata": {},
   "source": [
    "Q10.\n",
    "\n",
    "Write a Python program that does the following:\n",
    "\n",
    "Range: Loop through numbers from 1 to 20 (inclusive).\n",
    "\n",
    "Continue: If the number is divisible by 4, skip that iteration and move to the next number.\n",
    "\n",
    "Break: If the number is divisible by 7, stop the loop entirely.\n",
    "\n",
    "For all other numbers, print the number."
   ]
  },
  {
   "cell_type": "code",
   "execution_count": 16,
   "id": "b350f77d-0d6f-407f-831c-22956e521ab6",
   "metadata": {},
   "outputs": [
    {
     "name": "stdout",
     "output_type": "stream",
     "text": [
      "1\n",
      "2\n",
      "3\n",
      "4\n",
      "5\n",
      "6\n"
     ]
    }
   ],
   "source": [
    "for i in range(1,21):\n",
    "    if(i%7==0):\n",
    "        break\n",
    "        if(i%4==0):\n",
    "            continue\n",
    "    print(i)\n",
    "   "
   ]
  }
 ],
 "metadata": {
  "kernelspec": {
   "display_name": "Python [conda env:base] *",
   "language": "python",
   "name": "conda-base-py"
  },
  "language_info": {
   "codemirror_mode": {
    "name": "ipython",
    "version": 3
   },
   "file_extension": ".py",
   "mimetype": "text/x-python",
   "name": "python",
   "nbconvert_exporter": "python",
   "pygments_lexer": "ipython3",
   "version": "3.12.7"
  }
 },
 "nbformat": 4,
 "nbformat_minor": 5
}
