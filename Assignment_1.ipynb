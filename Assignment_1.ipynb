{
 "cells": [
  {
   "cell_type": "markdown",
   "id": "f13eb8e6-d915-42e3-a1c9-7cb071765598",
   "metadata": {},
   "source": [
    "### 1. Write a program that takes two numbers (a = 15 , b = 4) and prints their:\n",
    "### sum,differennce,product,divison,floor division,Modulus"
   ]
  },
  {
   "cell_type": "code",
   "execution_count": 13,
   "id": "28bb2d7a-fd4e-4467-b919-4eb657097e03",
   "metadata": {},
   "outputs": [
    {
     "data": {
      "text/plain": [
       "19"
      ]
     },
     "execution_count": 13,
     "metadata": {},
     "output_type": "execute_result"
    }
   ],
   "source": [
    "#sum\n",
    "a=15\n",
    "b=4\n",
    "(a+b)"
   ]
  },
  {
   "cell_type": "code",
   "execution_count": 15,
   "id": "da703e26-06bc-4b27-b9de-c62b5a34b823",
   "metadata": {},
   "outputs": [
    {
     "data": {
      "text/plain": [
       "11"
      ]
     },
     "execution_count": 15,
     "metadata": {},
     "output_type": "execute_result"
    }
   ],
   "source": [
    "#Difference\n",
    "(a-b)"
   ]
  },
  {
   "cell_type": "code",
   "execution_count": 17,
   "id": "1e7344ee-75eb-40f8-8ad3-837a4d606d98",
   "metadata": {},
   "outputs": [
    {
     "data": {
      "text/plain": [
       "60"
      ]
     },
     "execution_count": 17,
     "metadata": {},
     "output_type": "execute_result"
    }
   ],
   "source": [
    "#pruduct\n",
    "(a*b)"
   ]
  },
  {
   "cell_type": "code",
   "execution_count": 19,
   "id": "ce14ff95-7b4a-4dd6-9303-49090b38c132",
   "metadata": {},
   "outputs": [
    {
     "data": {
      "text/plain": [
       "3.75"
      ]
     },
     "execution_count": 19,
     "metadata": {},
     "output_type": "execute_result"
    }
   ],
   "source": [
    "#divison\n",
    "(a/b)"
   ]
  },
  {
   "cell_type": "code",
   "execution_count": 21,
   "id": "be325ad5-617a-4c7b-a721-da725ca0d94d",
   "metadata": {
    "scrolled": true
   },
   "outputs": [
    {
     "data": {
      "text/plain": [
       "3"
      ]
     },
     "execution_count": 21,
     "metadata": {},
     "output_type": "execute_result"
    }
   ],
   "source": [
    "#floor division\n",
    "(a//b)"
   ]
  },
  {
   "cell_type": "code",
   "execution_count": 23,
   "id": "ce007b38-dbee-45bc-89ff-fadc4aa0e492",
   "metadata": {},
   "outputs": [
    {
     "data": {
      "text/plain": [
       "3"
      ]
     },
     "execution_count": 23,
     "metadata": {},
     "output_type": "execute_result"
    }
   ],
   "source": [
    "#modulus\n",
    "(a%b)"
   ]
  },
  {
   "cell_type": "code",
   "execution_count": 5,
   "id": "3558dfeb-e22e-4826-b4bd-8e3e7d7d973a",
   "metadata": {},
   "outputs": [
    {
     "name": "stdout",
     "output_type": "stream",
     "text": [
      "1\n"
     ]
    }
   ],
   "source": [
    "a1=9\n",
    "b1=2\n",
    "print(a1%b1)"
   ]
  },
  {
   "cell_type": "markdown",
   "id": "059ee39a-1621-448d-98b8-c841cb0bacd2",
   "metadata": {},
   "source": [
    "### .........................first task end...................."
   ]
  },
  {
   "cell_type": "markdown",
   "id": "01986a46-fccc-426b-930f-4ca3dd58b430",
   "metadata": {},
   "source": [
    "## 2. Convert the following number (num1 = 10, num2 = 5.6, num3 = 4.43) \n",
    "#integer to float\n",
    "#float to integer\n",
    "#float to string"
   ]
  },
  {
   "cell_type": "code",
   "execution_count": 35,
   "id": "17a076aa-d640-43ad-81c6-2f1916bf7e0a",
   "metadata": {},
   "outputs": [],
   "source": [
    " \n",
    "num1=10\n",
    "num2=5.6\n",
    "num3=4.43"
   ]
  },
  {
   "cell_type": "code",
   "execution_count": 37,
   "id": "b3598063-225d-45d1-a72e-8aa5290ac689",
   "metadata": {},
   "outputs": [
    {
     "name": "stdout",
     "output_type": "stream",
     "text": [
      "10\n",
      "5\n",
      "4\n"
     ]
    }
   ],
   "source": [
    "# integer to float\n",
    "print(int(num1))\n",
    "print(int(num2))\n",
    "print(int(num3))"
   ]
  },
  {
   "cell_type": "code",
   "execution_count": 39,
   "id": "82229155-26c9-4d68-b6c8-297ca5a41ba7",
   "metadata": {},
   "outputs": [
    {
     "name": "stdout",
     "output_type": "stream",
     "text": [
      "10.0\n",
      "5.6\n",
      "4.43\n"
     ]
    }
   ],
   "source": [
    "# float to integer\n",
    "print(float(num1))\n",
    "print(float(num2))\n",
    "print(float(num3))"
   ]
  },
  {
   "cell_type": "code",
   "execution_count": 49,
   "id": "a1f5c2d3-7280-41d1-bb07-c91d394494aa",
   "metadata": {},
   "outputs": [
    {
     "name": "stdout",
     "output_type": "stream",
     "text": [
      "10\n",
      "5.6\n",
      "4.43\n"
     ]
    }
   ],
   "source": [
    "# float to string\n",
    "print(str(num1))\n",
    "print(str(num2))\n",
    "print(str(num3))"
   ]
  },
  {
   "cell_type": "code",
   "execution_count": 11,
   "id": "c9da6644-9779-427e-a81e-d018473928b3",
   "metadata": {},
   "outputs": [
    {
     "data": {
      "text/plain": [
       "['__add__',\n",
       " '__class__',\n",
       " '__class_getitem__',\n",
       " '__contains__',\n",
       " '__delattr__',\n",
       " '__delitem__',\n",
       " '__dir__',\n",
       " '__doc__',\n",
       " '__eq__',\n",
       " '__format__',\n",
       " '__ge__',\n",
       " '__getattribute__',\n",
       " '__getitem__',\n",
       " '__getstate__',\n",
       " '__gt__',\n",
       " '__hash__',\n",
       " '__iadd__',\n",
       " '__imul__',\n",
       " '__init__',\n",
       " '__init_subclass__',\n",
       " '__iter__',\n",
       " '__le__',\n",
       " '__len__',\n",
       " '__lt__',\n",
       " '__mul__',\n",
       " '__ne__',\n",
       " '__new__',\n",
       " '__reduce__',\n",
       " '__reduce_ex__',\n",
       " '__repr__',\n",
       " '__reversed__',\n",
       " '__rmul__',\n",
       " '__setattr__',\n",
       " '__setitem__',\n",
       " '__sizeof__',\n",
       " '__str__',\n",
       " '__subclasshook__',\n",
       " 'append',\n",
       " 'clear',\n",
       " 'copy',\n",
       " 'count',\n",
       " 'extend',\n",
       " 'index',\n",
       " 'insert',\n",
       " 'pop',\n",
       " 'remove',\n",
       " 'reverse',\n",
       " 'sort']"
      ]
     },
     "execution_count": 11,
     "metadata": {},
     "output_type": "execute_result"
    }
   ],
   "source": [
    "dir(list)"
   ]
  },
  {
   "cell_type": "markdown",
   "id": "7b18e4ff-919a-4e0d-93d1-16a659f79ac4",
   "metadata": {},
   "source": [
    "## ..................second task end............."
   ]
  },
  {
   "cell_type": "markdown",
   "id": "182d1dfd-a335-481f-9cf1-1f43944a93f2",
   "metadata": {},
   "source": [
    "## \"3. fruits = [\\\"apple\\\", \\\"banana\\\", \\\"cherry\\\", \\\"coconut\\\", \\\"pineapple\\\", \\\"mango\\\", \\\"orange\\\"]\n",
    "### Print below using indexing"
   ]
  },
  {
   "cell_type": "code",
   "execution_count": 67,
   "id": "c6b283e6-827e-4b3a-b062-d97575d3665d",
   "metadata": {},
   "outputs": [
    {
     "data": {
      "text/plain": [
       "['apple', 'banana', 'cherry', 'coconut', 'pineaple', 'mango', 'orange']"
      ]
     },
     "execution_count": 67,
     "metadata": {},
     "output_type": "execute_result"
    }
   ],
   "source": [
    "fruit=[\"apple\",\"banana\",\"cherry\",\"coconut\",\"pineaple\",\"mango\",\"orange\"]\n",
    "fruit"
   ]
  },
  {
   "cell_type": "code",
   "execution_count": 69,
   "id": "b2fa30f3-a134-45f8-bf5a-7e9df6ec1b45",
   "metadata": {},
   "outputs": [
    {
     "data": {
      "text/plain": [
       "'apple'"
      ]
     },
     "execution_count": 69,
     "metadata": {},
     "output_type": "execute_result"
    }
   ],
   "source": [
    "# print first fruit\n",
    "fruit[0]"
   ]
  },
  {
   "cell_type": "code",
   "execution_count": 15,
   "id": "9c8f3b1a-afe7-4bfc-9c7f-eca8866e1920",
   "metadata": {},
   "outputs": [
    {
     "ename": "NameError",
     "evalue": "name 'fruit' is not defined",
     "output_type": "error",
     "traceback": [
      "\u001b[1;31m---------------------------------------------------------------------------\u001b[0m",
      "\u001b[1;31mNameError\u001b[0m                                 Traceback (most recent call last)",
      "Cell \u001b[1;32mIn[15], line 1\u001b[0m\n\u001b[1;32m----> 1\u001b[0m fruit\n",
      "\u001b[1;31mNameError\u001b[0m: name 'fruit' is not defined"
     ]
    }
   ],
   "source": [
    "fruit"
   ]
  },
  {
   "cell_type": "code",
   "execution_count": 71,
   "id": "da6c5c09-93e4-4432-a1fa-d081032db4e9",
   "metadata": {},
   "outputs": [
    {
     "data": {
      "text/plain": [
       "'orange'"
      ]
     },
     "execution_count": 71,
     "metadata": {},
     "output_type": "execute_result"
    }
   ],
   "source": [
    "# The last fruit (negative indexing)\n",
    "fruit[-1]"
   ]
  },
  {
   "cell_type": "code",
   "execution_count": 73,
   "id": "4763baec-5af3-457f-8bfb-9ec27acd9dde",
   "metadata": {},
   "outputs": [
    {
     "data": {
      "text/plain": [
       "'coconut'"
      ]
     },
     "execution_count": 73,
     "metadata": {},
     "output_type": "execute_result"
    }
   ],
   "source": [
    "#The fourth fruit\n",
    "fruit[3]"
   ]
  },
  {
   "cell_type": "markdown",
   "id": "544104d2-502c-4c11-87d6-671c94ca7c5b",
   "metadata": {},
   "source": [
    "## 5.Add the number 10 to the end of the list using method nums = [1, 2, 3]"
   ]
  },
  {
   "cell_type": "code",
   "execution_count": 79,
   "id": "7263e622-8bf3-49eb-8676-ad0f81dcbda1",
   "metadata": {},
   "outputs": [
    {
     "name": "stdout",
     "output_type": "stream",
     "text": [
      "[1, 2, 3, 10]\n"
     ]
    }
   ],
   "source": [
    "nums=[1,2,3]\n",
    "nums.append(10)\n",
    "print(nums"
   ]
  },
  {
   "cell_type": "markdown",
   "id": "ecd8d2a6-aa6f-4289-a6ca-ff18c60393ae",
   "metadata": {},
   "source": [
    "## 6. Insert the number 99 at index 1 using method nums = [1, 2, 3]"
   ]
  },
  {
   "cell_type": "code",
   "execution_count": 86,
   "id": "e078610c-5fe4-4606-95ce-740a293b1d50",
   "metadata": {},
   "outputs": [
    {
     "name": "stdout",
     "output_type": "stream",
     "text": [
      "[1, 99, 2, 3]\n"
     ]
    }
   ],
   "source": [
    "nums=[1,2,3]\n",
    "nums.insert(1,99)\n",
    "print(nums)"
   ]
  },
  {
   "cell_type": "markdown",
   "id": "8f25c223-ff53-429a-80b8-c25f0a9722a9",
   "metadata": {},
   "source": [
    "## 4. List Slicing numbers = [10, 20, 30, 40, 50] print\n"
   ]
  },
  {
   "cell_type": "code",
   "execution_count": 4,
   "id": "65f9e104-f7ad-4555-8bb5-80f936ef1b82",
   "metadata": {},
   "outputs": [
    {
     "data": {
      "text/plain": [
       "[10, 20, 30, 40, 50]"
      ]
     },
     "execution_count": 4,
     "metadata": {},
     "output_type": "execute_result"
    }
   ],
   "source": [
    "num_1=[10,20,30,40,50]\n",
    "num_1"
   ]
  },
  {
   "cell_type": "code",
   "execution_count": 10,
   "id": "4c7d068d-a2e5-40e4-b3d2-0ef734e99764",
   "metadata": {},
   "outputs": [
    {
     "data": {
      "text/plain": [
       "[10, 20, 30]"
      ]
     },
     "execution_count": 10,
     "metadata": {},
     "output_type": "execute_result"
    }
   ],
   "source": [
    "# print first three element\n",
    "num_1[0:3]"
   ]
  },
  {
   "cell_type": "code",
   "execution_count": 101,
   "id": "c6a54c93-7dfe-4cd0-8468-fde1428f1e84",
   "metadata": {},
   "outputs": [
    {
     "data": {
      "text/plain": [
       "[40, 50]"
      ]
     },
     "execution_count": 101,
     "metadata": {},
     "output_type": "execute_result"
    }
   ],
   "source": [
    "# print last two element \n",
    "num_1[3:]"
   ]
  },
  {
   "cell_type": "code",
   "execution_count": 105,
   "id": "fc0e28a8-db58-41cd-ab94-5461a6f5b843",
   "metadata": {},
   "outputs": [
    {
     "data": {
      "text/plain": [
       "[20, 30, 40, 50]"
      ]
     },
     "execution_count": 105,
     "metadata": {},
     "output_type": "execute_result"
    }
   ],
   "source": [
    "# Print all elements except the first one\n",
    "num_1[1:]"
   ]
  },
  {
   "cell_type": "code",
   "execution_count": 107,
   "id": "b7f65a21-e8b0-4161-9cec-99a1423b8f9b",
   "metadata": {},
   "outputs": [
    {
     "data": {
      "text/plain": [
       "[10, 20, 30, 40]"
      ]
     },
     "execution_count": 107,
     "metadata": {},
     "output_type": "execute_result"
    }
   ],
   "source": [
    "#Print all elements except the last one\n",
    "num_1[0:4]"
   ]
  },
  {
   "cell_type": "code",
   "execution_count": 12,
   "id": "cdfac8b2-23d1-499f-9a00-7b44951c12d1",
   "metadata": {},
   "outputs": [
    {
     "data": {
      "text/plain": [
       "[10, 20, 30, 40]"
      ]
     },
     "execution_count": 12,
     "metadata": {},
     "output_type": "execute_result"
    }
   ],
   "source": [
    "# Print the list in reverse using slicing\\n\"\n",
    "num_1[::-1]"
   ]
  },
  {
   "cell_type": "code",
   "execution_count": 121,
   "id": "9d3bf3c1-ec39-4c99-9163-6717a95e8aef",
   "metadata": {},
   "outputs": [
    {
     "data": {
      "text/plain": [
       "[10, 30, 50]"
      ]
     },
     "execution_count": 121,
     "metadata": {},
     "output_type": "execute_result"
    }
   ],
   "source": [
    "# Print every second element\"\n",
    "num_1[0:5:2]"
   ]
  },
  {
   "cell_type": "markdown",
   "id": "b02bd2f9-135c-44ec-add6-9eff71715f4b",
   "metadata": {},
   "source": [
    "7.  Add the elements of another list [4, 5] to the original list using method\n",
    "\n"
   ]
  },
  {
   "cell_type": "code",
   "execution_count": 4,
   "id": "263cd448-8e97-41d1-a537-6da9a4257210",
   "metadata": {},
   "outputs": [
    {
     "name": "stdout",
     "output_type": "stream",
     "text": [
      "[1, 2, 3, 4, 5]\n"
     ]
    }
   ],
   "source": [
    "nums = [1, 2, 3]\n",
    "num1=[4,5]\n",
    "nums.extend(num1)\n",
    "print(nums)"
   ]
  },
  {
   "cell_type": "markdown",
   "id": "0dac6b2a-7041-43b7-9a78-7ac62d9c2500",
   "metadata": {},
   "source": [
    "8.  Sort the list in ascending order using method\n",
    "\n",
    "nums = [4, 1, 3, 2]"
   ]
  },
  {
   "cell_type": "code",
   "execution_count": 7,
   "id": "8c0aec8b-f6dd-447f-b388-84cf4bdbc230",
   "metadata": {},
   "outputs": [
    {
     "name": "stdout",
     "output_type": "stream",
     "text": [
      "[1, 2, 3, 4]\n"
     ]
    }
   ],
   "source": [
    "nums = [4, 1, 3, 2]\n",
    "nums.sort()\n",
    "print(nums)"
   ]
  },
  {
   "cell_type": "markdown",
   "id": "4a3d787e-1fa5-490c-b1e5-5273d2679d8d",
   "metadata": {},
   "source": [
    "9. A customer orders several food items. Add the items to a list and then:\n",
    "\n",
    "order = [\"burger\", \"fries\", \"coke\"]\n",
    "\n",
    "- Add a new item \"ice cream\" using append()\n",
    "\n",
    "- Remove an item \"biryani\" using remove()\n",
    "\n",
    "- Show the final order"
   ]
  },
  {
   "cell_type": "code",
   "execution_count": 10,
   "id": "0e286925-2615-4dda-98c5-14afcfdd4ddc",
   "metadata": {},
   "outputs": [
    {
     "data": {
      "text/plain": [
       "['burger', 'fries', 'coke', 'ice cream']"
      ]
     },
     "execution_count": 10,
     "metadata": {},
     "output_type": "execute_result"
    }
   ],
   "source": [
    "order = [\"burger\", \"fries\", \"coke\"]\n",
    "order.append(\"ice cream\")\n",
    "order\n",
    "\n"
   ]
  },
  {
   "cell_type": "code",
   "execution_count": 12,
   "id": "c945fd2f-3668-4d21-a768-5185e96b8700",
   "metadata": {},
   "outputs": [
    {
     "data": {
      "text/plain": [
       "['fries', 'coke', 'ice cream']"
      ]
     },
     "execution_count": 12,
     "metadata": {},
     "output_type": "execute_result"
    }
   ],
   "source": [
    "order.remove(\"burger\")\n",
    "order"
   ]
  },
  {
   "cell_type": "markdown",
   "id": "56bc5399-2a8e-453c-93bd-ddb7d5a7a83c",
   "metadata": {},
   "source": [
    "10. Track passengers on a bus:\n",
    "passengers = [\"Ali\", \"Zara\", \"Ahmed\"]\n",
    "\n",
    "Insert a new passenger \"Sara\" at position 2\n",
    "\n",
    "Remove passesnger who got off \"Zara\"\n",
    "\n",
    "Reverse the order to show who entered first"
   ]
  },
  {
   "cell_type": "code",
   "execution_count": 19,
   "id": "7d3586eb-3c4b-4ce6-944c-06d168b22d58",
   "metadata": {},
   "outputs": [
    {
     "data": {
      "text/plain": [
       "['Ali', 'Zara', 'Sara', 'Ahmed']"
      ]
     },
     "execution_count": 19,
     "metadata": {},
     "output_type": "execute_result"
    }
   ],
   "source": [
    "passengers= [\"Ali\", \"Zara\", \"Ahmed\"]\n",
    "passengers.insert(2,\"Sara\")\n",
    "passengers"
   ]
  },
  {
   "cell_type": "code",
   "execution_count": 23,
   "id": "94a8e228-d8b9-4693-9da3-b3bbcbb1cb1c",
   "metadata": {},
   "outputs": [
    {
     "data": {
      "text/plain": [
       "['Ali', 'Sara', 'Ahmed']"
      ]
     },
     "execution_count": 23,
     "metadata": {},
     "output_type": "execute_result"
    }
   ],
   "source": [
    "passengers.remove(\"Zara\")\n",
    "passengers"
   ]
  },
  {
   "cell_type": "code",
   "execution_count": 25,
   "id": "b0fcc190-5f5a-4f67-9b06-9ef16f03ffc4",
   "metadata": {},
   "outputs": [
    {
     "data": {
      "text/plain": [
       "['Ahmed', 'Sara', 'Ali']"
      ]
     },
     "execution_count": 25,
     "metadata": {},
     "output_type": "execute_result"
    }
   ],
   "source": [
    "passengers.reverse()\n",
    "passengers"
   ]
  }
 ],
 "metadata": {
  "kernelspec": {
   "display_name": "Python [conda env:base] *",
   "language": "python",
   "name": "conda-base-py"
  },
  "language_info": {
   "codemirror_mode": {
    "name": "ipython",
    "version": 3
   },
   "file_extension": ".py",
   "mimetype": "text/x-python",
   "name": "python",
   "nbconvert_exporter": "python",
   "pygments_lexer": "ipython3",
   "version": "3.12.7"
  }
 },
 "nbformat": 4,
 "nbformat_minor": 5
}
