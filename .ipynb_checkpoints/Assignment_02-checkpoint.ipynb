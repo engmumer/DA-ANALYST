{
 "cells": [
  {
   "cell_type": "markdown",
   "id": "d5e464ef-549e-468a-b923-c7291138c94e",
   "metadata": {},
   "source": [
    "### text = 'hello python world'\n",
    "\n",
    "Replace spaces with underscores in the string (e.g., \"hello python world\" → \"hello_python_world\").\n",
    "\n",
    "Split the modified string (e.g., \"hello_python_world\" → ['hello', 'python', 'world']).\n",
    "\n",
    "Join the list elements with a hyphen (-) between them (e.g., ['hello', 'python', 'world'] → \"hello-python-world\").\n",
    "\n",
    "Print all three results\n",
    "\n",
    "Hint: Use string methods ###"
   ]
  },
  {
   "cell_type": "code",
   "execution_count": 3,
   "id": "f5b6153d-739d-4cf9-b8d1-477bb5a4a8e7",
   "metadata": {},
   "outputs": [
    {
     "data": {
      "text/plain": [
       "'hello python world'"
      ]
     },
     "execution_count": 3,
     "metadata": {},
     "output_type": "execute_result"
    }
   ],
   "source": [
    "text= \"hello python world\"\n",
    "text"
   ]
  },
  {
   "cell_type": "code",
   "execution_count": 19,
   "id": "53dec079-01ab-424c-bbc5-3f5d26135747",
   "metadata": {},
   "outputs": [
    {
     "name": "stdout",
     "output_type": "stream",
     "text": [
      "hello_python_world\n"
     ]
    }
   ],
   "source": [
    "new_text=text.replace(\" \",\"_\")\n",
    "print(new_text)"
   ]
  },
  {
   "cell_type": "code",
   "execution_count": 21,
   "id": "1a20e3b1-dc01-4acd-8fa9-bf2a17c5abbb",
   "metadata": {},
   "outputs": [
    {
     "name": "stdout",
     "output_type": "stream",
     "text": [
      "['hello', 'python', 'world']\n"
     ]
    }
   ],
   "source": [
    "new_list=new_text.split(\"_\")\n",
    "print(new_list)"
   ]
  },
  {
   "cell_type": "code",
   "execution_count": 25,
   "id": "073ea8d0-a882-4fe4-a493-a337c99a56d2",
   "metadata": {},
   "outputs": [
    {
     "name": "stdout",
     "output_type": "stream",
     "text": [
      "hello-python-world\n"
     ]
    }
   ],
   "source": [
    "join=\"-\".join(new_list)\n",
    "print(join)"
   ]
  },
  {
   "cell_type": "markdown",
   "id": "dae1119a-e68d-4d15-a697-1a2763a671a0",
   "metadata": {},
   "source": [
    "### 2- Check if a string has more than 5 characters. Return True/False\n",
    "\n",
    "### word = \"Javascript\" "
   ]
  },
  {
   "cell_type": "code",
   "execution_count": 53,
   "id": "523da92a-d3dd-4ac3-b76d-57f300a5b328",
   "metadata": {},
   "outputs": [
    {
     "name": "stdout",
     "output_type": "stream",
     "text": [
      "True\n"
     ]
    }
   ],
   "source": [
    "word = \"Javascript\"\n",
    "y=len(word)\n",
    "print(y>5)"
   ]
  },
  {
   "cell_type": "markdown",
   "id": "d73fa133-0e70-4dbc-9816-2e6db1d81c3e",
   "metadata": {},
   "source": [
    "### 3- Check if a number is even and greater than 10. Return True/False\n",
    "\n",
    "### num2 = 12"
   ]
  },
  {
   "cell_type": "code",
   "execution_count": 60,
   "id": "091c6f5d-7ea9-417e-ae12-09e449215a83",
   "metadata": {},
   "outputs": [
    {
     "name": "stdout",
     "output_type": "stream",
     "text": [
      "False\n"
     ]
    }
   ],
   "source": [
    "num2=2\n",
    "t=(num2 % 2 == 0) and (num2>10)\n",
    "print(t)"
   ]
  },
  {
   "cell_type": "markdown",
   "id": "b797e7ab-248a-40bb-90ed-3cb67c2afcc7",
   "metadata": {},
   "source": [
    "### 4- Check if a number is less than 5 or greater than 20. Return True/False\n",
    "\n",
    "### num3 = 3"
   ]
  },
  {
   "cell_type": "code",
   "execution_count": 66,
   "id": "b61e79e3-beb0-42f0-9320-2e6d1733ef36",
   "metadata": {},
   "outputs": [
    {
     "name": "stdout",
     "output_type": "stream",
     "text": [
      "True\n"
     ]
    }
   ],
   "source": [
    "num3= 3\n",
    "print((num3<5) or (num3>20))"
   ]
  },
  {
   "cell_type": "markdown",
   "id": "73d1fd15-ce0b-47ad-80aa-0b78f43e461a",
   "metadata": {},
   "source": [
    "### 5- Check if a person’s age is between 18 and 65 and if they have a valid ID\n",
    "\n",
    "#### age = 25\n",
    "\n",
    "#### has_id = True"
   ]
  },
  {
   "cell_type": "code",
   "execution_count": 69,
   "id": "b9db2cca-0e0d-48e4-9369-ad4ad0780226",
   "metadata": {},
   "outputs": [
    {
     "name": "stdout",
     "output_type": "stream",
     "text": [
      "True\n"
     ]
    }
   ],
   "source": [
    "age= 25\n",
    "has_id=True\n",
    "eligibility=(18<=age<=65) and has_id\n",
    "print(eligibility)"
   ]
  },
  {
   "cell_type": "markdown",
   "id": "eb6e1272-7522-4ef6-8629-1cdf76729c31",
   "metadata": {},
   "source": [
    "### 6-Write a script to check if a string starts with (http://) or (https://)\n",
    "\n",
    "#### url = \"https://www.example.com\""
   ]
  },
  {
   "cell_type": "code",
   "execution_count": 72,
   "id": "5783d719-cdb4-4815-8de7-7939945fce65",
   "metadata": {},
   "outputs": [],
   "source": [
    "url=\"https://www.example.com\""
   ]
  },
  {
   "cell_type": "code",
   "execution_count": 74,
   "id": "3c64f804-e20a-41e2-83d2-50cc57f950d0",
   "metadata": {},
   "outputs": [
    {
     "name": "stdout",
     "output_type": "stream",
     "text": [
      "True\n"
     ]
    }
   ],
   "source": [
    "condition = url.startswith(\"http://\") or url.startswith(\"https://\")\n",
    "print(condition)"
   ]
  },
  {
   "cell_type": "markdown",
   "id": "5e372f3c-7a51-4398-ae47-da2186266be1",
   "metadata": {},
   "source": [
    "### 7- Write a script that applies a 10% discount to an item's price. (Using Assignment Operator)\n",
    "\n",
    "#### price = 100"
   ]
  },
  {
   "cell_type": "code",
   "execution_count": 81,
   "id": "efb8cc81-0d9f-48af-bc48-552c28a657f2",
   "metadata": {},
   "outputs": [
    {
     "name": "stdout",
     "output_type": "stream",
     "text": [
      "90.0\n"
     ]
    }
   ],
   "source": [
    "price=100\n",
    "price-=(100*10)/100\n",
    "print(price)"
   ]
  },
  {
   "cell_type": "markdown",
   "id": "3ceea457-1dd2-4768-a1b6-7391f67857ac",
   "metadata": {},
   "source": [
    "### 8- You are managing different customer lists for a subscription service, check if alice@example.com is our both premium and basic customer\n",
    "\n",
    "#### premium_customers = [\"alice@example.com\", \"charlie@example.com\", \"bob@example.com\"]\n",
    "\n",
    "#### basic_customers = [\"alex@example.com\", \"david@example.com\", \"chloe@example.com\"]"
   ]
  },
  {
   "cell_type": "code",
   "execution_count": 84,
   "id": "9dd75bae-08de-4549-ba58-01950afd0c77",
   "metadata": {},
   "outputs": [
    {
     "name": "stdout",
     "output_type": "stream",
     "text": [
      "False\n"
     ]
    }
   ],
   "source": [
    "premium_customers = [\"alice@example.com\", \"charlie@example.com\", \"bob@example.com\"]\n",
    "\n",
    "basic_customers = [\"alex@example.com\", \"david@example.com\", \"chloe@example.com\"]\n",
    "\n",
    "email= \"alice@example.com\"\n",
    "\n",
    "check= email in premium_customers and email in  basic_customers\n",
    "print(check)"
   ]
  },
  {
   "cell_type": "markdown",
   "id": "e415abaf-f3cd-4746-a6d1-1d34ffbeeee6",
   "metadata": {},
   "source": [
    "### Write a Python program that prompts the user to enter a password and returns True or False based on the following checks:\n",
    "#### Whether the string contains any uppercase characters.\n",
    "\n",
    "##### Whether the string contains any lowercase characters.\n",
    "\n",
    "#### Whether the string contains any spaces.\n",
    "\n",
    "#### Whether the string contains any special characters (anything other than letters, digits, and spaces).\n",
    "\n",
    "#### Hint: Use Input function and string methods"
   ]
  },
  {
   "cell_type": "code",
   "execution_count": 89,
   "id": "140c09de-4eb4-496d-9371-0c3b1e55b9c2",
   "metadata": {},
   "outputs": [
    {
     "name": "stdin",
     "output_type": "stream",
     "text": [
      "Enter your password:  Umer@ 123\n"
     ]
    },
    {
     "name": "stdout",
     "output_type": "stream",
     "text": [
      "False\n"
     ]
    }
   ],
   "source": [
    "password = input(\"Enter your password: \")\n",
    "\n",
    "has_upper = any(char.isupper() for char in password)\n",
    "has_lower = any(char.islower() for char in password)\n",
    "has_space = \" \" in password\n",
    "has_special = any(not char.isalnum() and char != \" \" for char in password)\n",
    "\n",
    "is_valid = has_upper and has_lower and not has_space and has_special\n",
    "\n",
    "print(is_valid)"
   ]
  },
  {
   "cell_type": "markdown",
   "id": "8ce2fb40-bb0c-4fb5-97d3-5e13139c6789",
   "metadata": {},
   "source": [
    "### 10- You have a product code that follows the format \"SKU-12345-XYZ\".\n",
    "\n",
    "#### Find the first position of the dash (-).\n",
    "\n",
    "#### Count the number of dashes (-) in the product code.\n",
    "\n",
    "#### Remove the \"SKU-\" prefix and \"-XYZ\" suffix from the product code, Extract the numeric part 12345\n",
    "\n",
    "#### Hint: Use String Methods"
   ]
  },
  {
   "cell_type": "code",
   "execution_count": 94,
   "id": "ae42b417-0e2c-4c05-8bd3-15f21becf04a",
   "metadata": {},
   "outputs": [
    {
     "name": "stdout",
     "output_type": "stream",
     "text": [
      "3\n"
     ]
    }
   ],
   "source": [
    "a=\"SKU-12345-XYZ\"\n",
    "Position = a.find(\"-\")\n",
    "print(Position)"
   ]
  },
  {
   "cell_type": "code",
   "execution_count": 96,
   "id": "060af195-62bb-4460-a54c-be454f74786c",
   "metadata": {},
   "outputs": [
    {
     "name": "stdout",
     "output_type": "stream",
     "text": [
      "2\n"
     ]
    }
   ],
   "source": [
    "dash_count = a.count(\"-\")\n",
    "print(dash_count)"
   ]
  },
  {
   "cell_type": "code",
   "execution_count": 98,
   "id": "28ae59c4-d99d-4245-a72e-ab55c33d60ae",
   "metadata": {},
   "outputs": [
    {
     "name": "stdout",
     "output_type": "stream",
     "text": [
      "12345\n"
     ]
    }
   ],
   "source": [
    "numeric_part = a[4:-4]  \n",
    "print(numeric_part)"
   ]
  }
 ],
 "metadata": {
  "kernelspec": {
   "display_name": "Python [conda env:base] *",
   "language": "python",
   "name": "conda-base-py"
  },
  "language_info": {
   "codemirror_mode": {
    "name": "ipython",
    "version": 3
   },
   "file_extension": ".py",
   "mimetype": "text/x-python",
   "name": "python",
   "nbconvert_exporter": "python",
   "pygments_lexer": "ipython3",
   "version": "3.12.7"
  }
 },
 "nbformat": 4,
 "nbformat_minor": 5
}
